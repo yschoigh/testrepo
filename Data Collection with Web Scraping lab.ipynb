{
    "cells": [
        {
            "metadata": {},
            "cell_type": "markdown",
            "source": "<center>\n    <img src=\"https://gitlab.com/ibm/skills-network/courses/placeholder101/-/raw/master/labs/module%201/images/IDSNlogo.png\" width=\"300\" alt=\"cognitiveclass.ai logo\"  />\n</center>\n"
        },
        {
            "metadata": {},
            "cell_type": "markdown",
            "source": "# **Space X  Falcon 9 First Stage Landing Prediction**\n"
        },
        {
            "metadata": {},
            "cell_type": "markdown",
            "source": "## Web scraping Falcon 9 and Falcon Heavy Launches Records from Wikipedia\n"
        },
        {
            "metadata": {},
            "cell_type": "markdown",
            "source": "Estimated time needed: **40** minutes\n"
        },
        {
            "metadata": {},
            "cell_type": "markdown",
            "source": "In this lab, you will be performing web scraping to collect Falcon 9 historical launch records from a Wikipedia page titled `List of Falcon 9 and Falcon Heavy launches`\n\n[https://en.wikipedia.org/wiki/List_of_Falcon\\_9\\_and_Falcon_Heavy_launches](https://en.wikipedia.org/wiki/List_of_Falcon\\_9\\_and_Falcon_Heavy_launches?utm_medium=Exinfluencer&utm_source=Exinfluencer&utm_content=000026UJ&utm_term=10006555&utm_id=NA-SkillsNetwork-Channel-SkillsNetworkCoursesIBMDS0321ENSkillsNetwork26802033-2021-01-01)\n"
        },
        {
            "metadata": {},
            "cell_type": "markdown",
            "source": "![](https://cf-courses-data.s3.us.cloud-object-storage.appdomain.cloud/IBM-DS0321EN-SkillsNetwork/labs/module\\_1\\_L2/images/Falcon9\\_rocket_family.svg)\n"
        },
        {
            "metadata": {},
            "cell_type": "markdown",
            "source": "Falcon 9 first stage will land successfully\n"
        },
        {
            "metadata": {},
            "cell_type": "markdown",
            "source": "![](https://cf-courses-data.s3.us.cloud-object-storage.appdomain.cloud/IBMDeveloperSkillsNetwork-DS0701EN-SkillsNetwork/api/Images/landing\\_1.gif)\n"
        },
        {
            "metadata": {},
            "cell_type": "markdown",
            "source": "Several examples of an unsuccessful landing are shown here:\n"
        },
        {
            "metadata": {},
            "cell_type": "markdown",
            "source": "![](https://cf-courses-data.s3.us.cloud-object-storage.appdomain.cloud/IBMDeveloperSkillsNetwork-DS0701EN-SkillsNetwork/api/Images/crash.gif)\n"
        },
        {
            "metadata": {},
            "cell_type": "markdown",
            "source": "More specifically, the launch records are stored in a HTML table shown below:\n"
        },
        {
            "metadata": {},
            "cell_type": "markdown",
            "source": "![](https://cf-courses-data.s3.us.cloud-object-storage.appdomain.cloud/IBM-DS0321EN-SkillsNetwork/labs/module\\_1\\_L2/images/falcon9-launches-wiki.png)\n"
        },
        {
            "metadata": {},
            "cell_type": "markdown",
            "source": "## Objectives\n\nWeb scrap Falcon 9 launch records with `BeautifulSoup`:\n\n*   Extract a Falcon 9 launch records HTML table from Wikipedia\n*   Parse the table and convert it into a Pandas data frame\n"
        },
        {
            "metadata": {},
            "cell_type": "markdown",
            "source": "First let's import required packages for this lab\n"
        },
        {
            "metadata": {},
            "cell_type": "code",
            "source": "!pip3 install beautifulsoup4\n!pip3 install requests",
            "execution_count": 1,
            "outputs": [
                {
                    "output_type": "stream",
                    "text": "Requirement already satisfied: beautifulsoup4 in /opt/conda/envs/Python-3.9/lib/python3.9/site-packages (4.10.0)\nRequirement already satisfied: soupsieve>1.2 in /opt/conda/envs/Python-3.9/lib/python3.9/site-packages (from beautifulsoup4) (2.3.1)\nRequirement already satisfied: requests in /opt/conda/envs/Python-3.9/lib/python3.9/site-packages (2.26.0)\nRequirement already satisfied: idna<4,>=2.5 in /opt/conda/envs/Python-3.9/lib/python3.9/site-packages (from requests) (3.3)\nRequirement already satisfied: urllib3<1.27,>=1.21.1 in /opt/conda/envs/Python-3.9/lib/python3.9/site-packages (from requests) (1.26.7)\nRequirement already satisfied: charset-normalizer~=2.0.0 in /opt/conda/envs/Python-3.9/lib/python3.9/site-packages (from requests) (2.0.4)\nRequirement already satisfied: certifi>=2017.4.17 in /opt/conda/envs/Python-3.9/lib/python3.9/site-packages (from requests) (2021.10.8)\n",
                    "name": "stdout"
                }
            ]
        },
        {
            "metadata": {},
            "cell_type": "code",
            "source": "import sys\n\nimport requests\nfrom bs4 import BeautifulSoup\nimport re\nimport unicodedata\nimport pandas as pd",
            "execution_count": 2,
            "outputs": []
        },
        {
            "metadata": {},
            "cell_type": "markdown",
            "source": "and we will provide some helper functions for you to process web scraped HTML table\n"
        },
        {
            "metadata": {},
            "cell_type": "code",
            "source": "def date_time(table_cells):\n    \"\"\"\n    This function returns the data and time from the HTML  table cell\n    Input: the  element of a table data cell extracts extra row\n    \"\"\"\n    return [data_time.strip() for data_time in list(table_cells.strings)][0:2]\n\ndef booster_version(table_cells):\n    \"\"\"\n    This function returns the booster version from the HTML  table cell \n    Input: the  element of a table data cell extracts extra row\n    \"\"\"\n    out=''.join([booster_version for i,booster_version in enumerate( table_cells.strings) if i%2==0][0:-1])\n    return out\n\ndef landing_status(table_cells):\n    \"\"\"\n    This function returns the landing status from the HTML table cell \n    Input: the  element of a table data cell extracts extra row\n    \"\"\"\n    out=[i for i in table_cells.strings][0]\n    return out\n\n\ndef get_mass(table_cells):\n    mass=unicodedata.normalize(\"NFKD\", table_cells.text).strip()\n    if mass:\n        mass.find(\"kg\")\n        new_mass=mass[0:mass.find(\"kg\")+2]\n    else:\n        new_mass=0\n    return new_mass\n\n\ndef extract_column_from_header(row):\n    \"\"\"\n    This function returns the landing status from the HTML table cell \n    Input: the  element of a table data cell extracts extra row\n    \"\"\"\n    if (row.br):\n        row.br.extract()\n    if row.a:\n        row.a.extract()\n    if row.sup:\n        row.sup.extract()\n        \n    colunm_name = ' '.join(row.contents)\n    \n    # Filter the digit and empty names\n    if not(colunm_name.strip().isdigit()):\n        colunm_name = colunm_name.strip()\n        return colunm_name    \n",
            "execution_count": 3,
            "outputs": []
        },
        {
            "metadata": {},
            "cell_type": "markdown",
            "source": "To keep the lab tasks consistent, you will be asked to scrape the data from a snapshot of the  `List of Falcon 9 and Falcon Heavy launches` Wikipage updated on\n`9th June 2021`\n"
        },
        {
            "metadata": {},
            "cell_type": "code",
            "source": "static_url = \"https://en.wikipedia.org/w/index.php?title=List_of_Falcon_9_and_Falcon_Heavy_launches&oldid=1027686922\"",
            "execution_count": 4,
            "outputs": []
        },
        {
            "metadata": {},
            "cell_type": "markdown",
            "source": "Next, request the HTML page from the above URL and get a `response` object\n"
        },
        {
            "metadata": {},
            "cell_type": "markdown",
            "source": "### TASK 1: Request the Falcon9 Launch Wiki page from its URL\n"
        },
        {
            "metadata": {},
            "cell_type": "markdown",
            "source": "First, let's perform an HTTP GET method to request the Falcon9 Launch HTML page, as an HTTP response.\n"
        },
        {
            "metadata": {},
            "cell_type": "code",
            "source": "# use requests.get() method with the provided static_url\n# assign the response to a object\n\nresponse = requests.get(static_url)\n#print(response.text)\n",
            "execution_count": 5,
            "outputs": []
        },
        {
            "metadata": {},
            "cell_type": "markdown",
            "source": "Create a `BeautifulSoup` object from the HTML `response`\n"
        },
        {
            "metadata": {},
            "cell_type": "code",
            "source": "# Use BeautifulSoup() to create a BeautifulSoup object from a response text content\nsoup = BeautifulSoup(response.text , \"html.parser\")\n",
            "execution_count": 6,
            "outputs": []
        },
        {
            "metadata": {},
            "cell_type": "markdown",
            "source": "Print the page title to verify if the `BeautifulSoup` object was created properly\n"
        },
        {
            "metadata": {},
            "cell_type": "code",
            "source": "# Use soup.title attribute\nsoup.title",
            "execution_count": 7,
            "outputs": [
                {
                    "output_type": "execute_result",
                    "execution_count": 7,
                    "data": {
                        "text/plain": "<title>List of Falcon 9 and Falcon Heavy launches - Wikipedia</title>"
                    },
                    "metadata": {}
                }
            ]
        },
        {
            "metadata": {},
            "cell_type": "markdown",
            "source": "### TASK 2: Extract all column/variable names from the HTML table header\n"
        },
        {
            "metadata": {},
            "cell_type": "markdown",
            "source": "Next, we want to collect all relevant column names from the HTML table header\n"
        },
        {
            "metadata": {},
            "cell_type": "markdown",
            "source": "Let's try to find all tables on the wiki page first. If you need to refresh your memory about `BeautifulSoup`, please check the external reference link towards the end of this lab\n"
        },
        {
            "metadata": {},
            "cell_type": "code",
            "source": "# Use the find_all function in the BeautifulSoup object, with element type `table`\n# Assign the result to a list called `html_tables`\nhtml_tables=soup.find_all('tr')",
            "execution_count": 8,
            "outputs": []
        },
        {
            "metadata": {},
            "cell_type": "markdown",
            "source": "Starting from the third table is our target table contains the actual launch records.\n"
        },
        {
            "metadata": {},
            "cell_type": "code",
            "source": "# Let's print the third table and check its content\nfirst_launch_table = html_tables[2]\nprint(first_launch_table)",
            "execution_count": 9,
            "outputs": [
                {
                    "output_type": "stream",
                    "text": "<tr>\n<th scope=\"col\">Flight No.\n</th>\n<th scope=\"col\">Date and<br/>time (<a href=\"/wiki/Coordinated_Universal_Time\" title=\"Coordinated Universal Time\">UTC</a>)\n</th>\n<th scope=\"col\"><a href=\"/wiki/List_of_Falcon_9_first-stage_boosters\" title=\"List of Falcon 9 first-stage boosters\">Version,<br/>Booster</a> <sup class=\"reference\" id=\"cite_ref-booster_11-0\"><a href=\"#cite_note-booster-11\">[b]</a></sup>\n</th>\n<th scope=\"col\">Launch site\n</th>\n<th scope=\"col\">Payload<sup class=\"reference\" id=\"cite_ref-Dragon_12-0\"><a href=\"#cite_note-Dragon-12\">[c]</a></sup>\n</th>\n<th scope=\"col\">Payload mass\n</th>\n<th scope=\"col\">Orbit\n</th>\n<th scope=\"col\">Customer\n</th>\n<th scope=\"col\">Launch<br/>outcome\n</th>\n<th scope=\"col\"><a href=\"/wiki/Falcon_9_first-stage_landing_tests\" title=\"Falcon 9 first-stage landing tests\">Booster<br/>landing</a>\n</th></tr>\n",
                    "name": "stdout"
                }
            ]
        },
        {
            "metadata": {},
            "cell_type": "markdown",
            "source": "You should able to see the columns names embedded in the table header elements `<th>` as follows:\n"
        },
        {
            "metadata": {},
            "cell_type": "markdown",
            "source": "```\n<tr>\n<th scope=\"col\">Flight No.\n</th>\n<th scope=\"col\">Date and<br/>time (<a href=\"/wiki/Coordinated_Universal_Time\" title=\"Coordinated Universal Time\">UTC</a>)\n</th>\n<th scope=\"col\"><a href=\"/wiki/List_of_Falcon_9_first-stage_boosters\" title=\"List of Falcon 9 first-stage boosters\">Version,<br/>Booster</a> <sup class=\"reference\" id=\"cite_ref-booster_11-0\"><a href=\"#cite_note-booster-11\">[b]</a></sup>\n</th>\n<th scope=\"col\">Launch site\n</th>\n<th scope=\"col\">Payload<sup class=\"reference\" id=\"cite_ref-Dragon_12-0\"><a href=\"#cite_note-Dragon-12\">[c]</a></sup>\n</th>\n<th scope=\"col\">Payload mass\n</th>\n<th scope=\"col\">Orbit\n</th>\n<th scope=\"col\">Customer\n</th>\n<th scope=\"col\">Launch<br/>outcome\n</th>\n<th scope=\"col\"><a href=\"/wiki/Falcon_9_first-stage_landing_tests\" title=\"Falcon 9 first-stage landing tests\">Booster<br/>landing</a>\n</th></tr>\n```\n"
        },
        {
            "metadata": {},
            "cell_type": "markdown",
            "source": "Next, we just need to iterate through the `<th>` elements and apply the provided `extract_column_from_header()` to extract column name one by one\n"
        },
        {
            "metadata": {},
            "cell_type": "code",
            "source": " first_launch_table ",
            "execution_count": 10,
            "outputs": [
                {
                    "output_type": "execute_result",
                    "execution_count": 10,
                    "data": {
                        "text/plain": "<tr>\n<th scope=\"col\">Flight No.\n</th>\n<th scope=\"col\">Date and<br/>time (<a href=\"/wiki/Coordinated_Universal_Time\" title=\"Coordinated Universal Time\">UTC</a>)\n</th>\n<th scope=\"col\"><a href=\"/wiki/List_of_Falcon_9_first-stage_boosters\" title=\"List of Falcon 9 first-stage boosters\">Version,<br/>Booster</a> <sup class=\"reference\" id=\"cite_ref-booster_11-0\"><a href=\"#cite_note-booster-11\">[b]</a></sup>\n</th>\n<th scope=\"col\">Launch site\n</th>\n<th scope=\"col\">Payload<sup class=\"reference\" id=\"cite_ref-Dragon_12-0\"><a href=\"#cite_note-Dragon-12\">[c]</a></sup>\n</th>\n<th scope=\"col\">Payload mass\n</th>\n<th scope=\"col\">Orbit\n</th>\n<th scope=\"col\">Customer\n</th>\n<th scope=\"col\">Launch<br/>outcome\n</th>\n<th scope=\"col\"><a href=\"/wiki/Falcon_9_first-stage_landing_tests\" title=\"Falcon 9 first-stage landing tests\">Booster<br/>landing</a>\n</th></tr>"
                    },
                    "metadata": {}
                }
            ]
        },
        {
            "metadata": {},
            "cell_type": "code",
            "source": "column_names = []\n# Apply find_all() function with `th` element on first_launch_table\n# Iterate each th element and apply the provided extract_column_from_header() to get a column name\n# Append the Non-empty column name (`if name is not None and len(name) > 0`) into a list called column_names\nfor row in first_launch_table.find_all('th') : # in html table row is represented by the tag <tr>\n    col_name = extract_column_from_header(row)\n    if (col_name != ''  ) :\n        column_names.append(col_name)\n\n  ",
            "execution_count": 11,
            "outputs": []
        },
        {
            "metadata": {},
            "cell_type": "markdown",
            "source": "Check the extracted column names\n"
        },
        {
            "metadata": {},
            "cell_type": "code",
            "source": " column_names",
            "execution_count": 12,
            "outputs": [
                {
                    "output_type": "execute_result",
                    "execution_count": 12,
                    "data": {
                        "text/plain": "['Flight No.',\n 'Date and time ( )',\n 'Launch site',\n 'Payload',\n 'Payload mass',\n 'Orbit',\n 'Customer',\n 'Launch outcome']"
                    },
                    "metadata": {}
                }
            ]
        },
        {
            "metadata": {},
            "cell_type": "markdown",
            "source": "## TASK 3: Create a data frame by parsing the launch HTML tables\n"
        },
        {
            "metadata": {},
            "cell_type": "markdown",
            "source": "We will create an empty dictionary with keys from the extracted column names in the previous task. Later, this dictionary will be converted into a Pandas dataframe\n"
        },
        {
            "metadata": {},
            "cell_type": "code",
            "source": "launch_dict= dict.fromkeys(column_names)\n\n# Remove an irrelvant column\ndel launch_dict['Date and time ( )']\n\n# Let's initial the launch_dict with each value to be an empty list\nlaunch_dict['Flight No.'] = []\nlaunch_dict['Launch site'] = []\nlaunch_dict['Payload'] = []\nlaunch_dict['Payload mass'] = []\nlaunch_dict['Orbit'] = []\nlaunch_dict['Customer'] = []\nlaunch_dict['Launch outcome'] = []\n# Added some new columns\nlaunch_dict['Version Booster']=[]\nlaunch_dict['Booster landing']=[]\nlaunch_dict['Date']=[]\nlaunch_dict['Time']=[]",
            "execution_count": 13,
            "outputs": []
        },
        {
            "metadata": {},
            "cell_type": "markdown",
            "source": "Next, we just need to fill up the `launch_dict` with launch records extracted from table rows.\n"
        },
        {
            "metadata": {},
            "cell_type": "markdown",
            "source": "Usually, HTML tables in Wiki pages are likely to contain unexpected annotations and other types of noises, such as reference links `B0004.1[8]`, missing values `N/A [e]`, inconsistent formatting, etc.\n"
        },
        {
            "metadata": {},
            "cell_type": "markdown",
            "source": "To simplify the parsing process, we have provided an incomplete code snippet below to help you to fill up the `launch_dict`. Please complete the following code snippet with TODOs or you can choose to write your own logic to parse all launch tables:\n"
        },
        {
            "metadata": {},
            "cell_type": "code",
            "source": "extracted_row = 0\n#Extract each table \nfor table_number,table in enumerate(soup.find_all('table',\"wikitable plainrowheaders collapsible\")):\n   # get table row \n    for rows in table.find_all(\"tr\"):\n        #check to see if first table heading is as number corresponding to launch a number \n        if rows.th:\n            if rows.th.string:\n                flight_number=rows.th.string.strip()\n                flag=flight_number.isdigit()\n        else:\n            flag=False\n        #get table element \n        row=rows.find_all('td')\n        #if it is number save cells in a dictonary \n        if flag:\n            extracted_row += 1\n            # Flight Number value\n            # TODO: Append the flight_number into launch_dict with key `Flight No.`\n            launch_dict['Flight No.'].append(flight_number)\n            #print(flight_number)\n            \n            datatimelist=date_time(row[0])\n            # Date value\n            # TODO: Append the date into launch_dict with key `Date`\n            date = datatimelist[0].strip(',')\n            launch_dict['Date'].append(date)\n            #print(date)\n            \n            # Time value\n            # TODO: Append the time into launch_dict with key `Time`\n            time = datatimelist[1]\n            launch_dict['Time'].append(time)\n            \n            #print(time)\n              \n            # Booster version\n            # TODO: Append the bv into launch_dict with key `Version Booster`\n            bv=booster_version(row[1])\n            if not(bv):\n                bv=row[1].a.string\n            print(bv)\n            \n            launch_dict['Version Booster'].append(bv)\n            \n            # Launch Site\n            # TODO: Append the bv into launch_dict with key `Launch Site`\n            launch_site = row[2].a.string\n            launch_dict['Launch site'].append(launch_site)\n            #print(launch_site)\n            \n            # Payload\n            # TODO: Append the payload into launch_dict with key `Payload`\n            payload = row[3].a.string\n            launch_dict['Payload'].append(payload)\n            #print(payload)\n            \n            # Payload Mass\n            # TODO: Append the payload_mass into launch_dict with key `Payload mass`\n            payload_mass = get_mass(row[4])\n            launch_dict['Payload mass'].append(payload_mass)\n            #print(payload)\n            \n            # Orbit\n            # TODO: Append the orbit into launch_dict with key `Orbit`\n            orbit = row[5].a.string\n            launch_dict['Orbit'].append(orbit)\n            #print(orbit)\n            \n            # Customer\n            # TODO: Append the customer into launch_dict with key `Customer`\n            # customer = row[6].a.string\n            if row[6].a:\n                customer = row[6].a.string\n            else:\n                customer = row[6].string.replace('\\n','')   \n            print(customer)\n            launch_dict['Customer'].append(customer)\n            \n            \n            #print(customer)\n            \n            # Launch outcome\n            # TODO: Append the launch_outcome into launch_dict with key `Launch outcome`\n            launch_outcome = list(row[7].strings)[0]\n            launch_dict['Launch outcome'].append(launch_outcome)\n            #print(launch_outcome)\n            \n            # Booster landing\n            # TODO: Append the launch_outcome into launch_dict with key `Booster landing`\n            booster_landing = landing_status(row[8])\n            launch_dict['Booster landing'].append(booster_landing)\n            #print(booster_landing)\n            ",
            "execution_count": 14,
            "outputs": [
                {
                    "output_type": "stream",
                    "text": "F9 v1.0B0003.1\nSpaceX\nF9 v1.0B0004.1\nNASA\nF9 v1.0B0005.1\nNASA\nF9 v1.0B0006.1\nNASA\nF9 v1.0B0007.1\nNASA\nF9 v1.1B1003\nMDA\nF9 v1.1\nSES\nF9 v1.1\nThaicom\nF9 v1.1\nNASA\nF9 v1.1\nOrbcomm\nF9 v1.1\nAsiaSat\nF9 v1.1\nAsiaSat\nF9 v1.1\nNASA\nF9 v1.1\nNASA\nF9 v1.1\nUSAF\nF9 v1.1\nABS\nF9 v1.1\nNASA\nF9 v1.1\nNone\nF9 v1.1\nNASA\nF9 FT\nOrbcomm\nF9 v1.1\nNASA\nF9 FT\nSES\nF9 FT\nNASA\nF9 FT\nSKY Perfect JSAT Group\nF9 FT\nThaicom\nF9 FT\nABS\nF9 FT\nNASA\nF9 FT\nSKY Perfect JSAT Group\nF9 FT\nIridium Communications\nF9 FT\nNASA\nF9 FT\nEchoStar\nF9 FT\u267a\nSES\nF9 FT\nNRO\nF9 FT\nInmarsat\nF9 FT\nNASA\nF9 FTB1029.2\nBulsatcom\nF9 FT\nIridium Communications\nF9 FT\nIntelsat\nF9 B4\nNASA\nF9 FT\nNSPO\nF9 B4\nUSAF\nF9 B4\nIridium Communications\nF9 FTB1031.2\nSES S.A.\nF9 B4\nKT Corporation\nF9 FTB1035.2\nNASA\nF9 FTB1036.2\nIridium Communications\nF9 B4\nNorthrop Grumman\nF9 FTB1032.2\nSES\nF9 FTB1038.2\nHisdesat\nF9 B4\nHispasat\nF9 B4B1041.2\nIridium Communications\nF9 B4B1039.2\nNASA\nF9 B4\nNASA\nF9 B5B1046.1\nThales-Alenia\nF9 B4B1043.2\nIridium Communications\nF9 B4B1040.2\nSES\nF9 B4B1045.2\nNASA\nF9 B5\nTelesat\nF9 B5B1048\nIridium Communications\nF9 B5B1046.2\nTelkom Indonesia\nF9 B5\nTelesat\nF9 B5B1048.2\nCONAE\nF9 B5B1047.2\nEs'hailSat\nF9 B5B1046.3\nSpaceflight Industries\nF9 B5\nNASA\nF9 B5\nUSAF\nF9 B5B1049.2\nIridium Communications\nF9 B5B1048.3\nPSN\nF9 B5[268]\nNASA\nF9 B5\nNASA\nF9 B5B1049.3\nSpaceX\nF9 B5B1051.2\nCanadian Space Agency\nF9 B5B1056.2\nNASA\nF9 B5B1047.3\nSpacecom\nF9 B5\nSpaceX\nF9 B5\nNASA\nF9 B5B1056.3\nSky Perfect JSAT\nF9 B5\nSpaceX\nF9 B5\nNASA\nF9 B5\nSpaceX\nF9 B5\nSpaceX\nF9 B5\nNASA\nF9 B5\nSpaceX\nF9 B5\nSpaceX\nF9 B5\nNASA\nF9 B5\nSpaceX\nF9 B5\nSpaceX\nF9 B5\nU.S. Space Force\nF9 B5B1058.2\nRepublic of Korea Army\nF9 B5\nSpaceX\nF9 B5B1049.6\nSpaceX\nF9 B5\nCONAE\nF9 B5B1060.2\nSpaceX\nF9 B5B1058.3\nSpaceX\nF9 B5B1051.6\nSpaceX\nF9 B5\nSpaceX\nF9 B5\nUSSF\nF9 B5\nNASA\nF9 B5\nNASA\nF9 B5 \u267a\nSpaceX\nF9 B5 \u267a\nNASA\nF9 B5 \u267a\nSirius XM\nF9 B5 \u267a\nNRO\nF9 B5\nT\u00fcrksat\nF9 B5B1051.8\nSpaceX\nF9 B5B1058.5\nVarious\nF9 B5 \u267a\nSpaceX\nF9 B5 \u267a\nSpaceX\nF9 B5 \u267a\nSpaceX\nF9 B5 \u267a\nSpaceX\nF9 B5 \u267a\nSpaceX\nF9 B5B1060.6\nSpaceX\nF9 B5 \u267a\nSpaceX\nF9 B5B1061.2\nNASA\nF9 B5B1060.7\nSpaceX\nF9 B5B1049.9\nSpaceX\nF9 B5B1051.10\nSpaceX\nF9 B5B1058.8\nSpaceX\nF9 B5B1063.2\nSpaceX\nF9 B5B1067.1\nNASA\nF9 B5\nSirius XM\n",
                    "name": "stdout"
                }
            ]
        },
        {
            "metadata": {},
            "cell_type": "markdown",
            "source": "After you have fill in the parsed launch record values into `launch_dict`, you can create a dataframe from it.\n"
        },
        {
            "metadata": {},
            "cell_type": "code",
            "source": "launch_dict",
            "execution_count": 15,
            "outputs": [
                {
                    "output_type": "execute_result",
                    "execution_count": 15,
                    "data": {
                        "text/plain": "{'Flight No.': ['1',\n  '2',\n  '3',\n  '4',\n  '5',\n  '6',\n  '7',\n  '8',\n  '9',\n  '10',\n  '11',\n  '12',\n  '13',\n  '14',\n  '15',\n  '16',\n  '17',\n  '18',\n  '19',\n  '20',\n  '21',\n  '22',\n  '23',\n  '24',\n  '25',\n  '26',\n  '27',\n  '28',\n  '29',\n  '30',\n  '31',\n  '32',\n  '33',\n  '34',\n  '35',\n  '36',\n  '37',\n  '38',\n  '39',\n  '40',\n  '41',\n  '42',\n  '43',\n  '44',\n  '45',\n  '46',\n  '47',\n  '48',\n  '49',\n  '50',\n  '51',\n  '52',\n  '53',\n  '54',\n  '55',\n  '56',\n  '57',\n  '58',\n  '59',\n  '60',\n  '61',\n  '62',\n  '63',\n  '64',\n  '65',\n  '66',\n  '67',\n  '68',\n  '69',\n  '70',\n  '71',\n  '72',\n  '73',\n  '74',\n  '75',\n  '76',\n  '77',\n  '78',\n  '79',\n  '80',\n  '81',\n  '82',\n  '83',\n  '84',\n  '85',\n  '86',\n  '87',\n  '88',\n  '89',\n  '90',\n  '91',\n  '92',\n  '93',\n  '94',\n  '95',\n  '96',\n  '97',\n  '98',\n  '99',\n  '100',\n  '101',\n  '102',\n  '103',\n  '104',\n  '105',\n  '106',\n  '107',\n  '108',\n  '109',\n  '110',\n  '111',\n  '112',\n  '113',\n  '114',\n  '115',\n  '116',\n  '117',\n  '118',\n  '119',\n  '120',\n  '121'],\n 'Launch site': ['CCAFS',\n  'CCAFS',\n  'CCAFS',\n  'CCAFS',\n  'CCAFS',\n  'VAFB',\n  'CCAFS',\n  'CCAFS',\n  'Cape Canaveral',\n  'Cape Canaveral',\n  'Cape Canaveral',\n  'Cape Canaveral',\n  'Cape Canaveral',\n  'Cape Canaveral',\n  'Cape Canaveral',\n  'Cape Canaveral',\n  'Cape Canaveral',\n  'Cape Canaveral',\n  'Cape Canaveral',\n  'Cape Canaveral',\n  'VAFB',\n  'Cape Canaveral',\n  'Cape Canaveral',\n  'Cape Canaveral',\n  'Cape Canaveral',\n  'Cape Canaveral',\n  'Cape Canaveral',\n  'Cape Canaveral',\n  'VAFB',\n  'KSC',\n  'KSC',\n  'KSC',\n  'KSC',\n  'KSC',\n  'KSC',\n  'KSC',\n  'VAFB',\n  'KSC',\n  'KSC',\n  'VAFB',\n  'KSC',\n  'VAFB',\n  'KSC',\n  'KSC',\n  'Cape Canaveral',\n  'VAFB',\n  'CCAFS',\n  'CCAFS',\n  'VAFB',\n  'CCAFS',\n  'VAFB',\n  'CCAFS',\n  'CCAFS',\n  'KSC',\n  'VAFB',\n  'CCAFS',\n  'CCAFS',\n  'CCAFS',\n  'VAFB',\n  'CCAFS',\n  'CCAFS',\n  'VAFB',\n  'KSC',\n  'VAFB',\n  'CCAFS',\n  'CCAFS',\n  'VAFB',\n  'CCAFS',\n  'KSC',\n  'CCAFS',\n  'CCAFS',\n  'VAFB',\n  'CCAFS',\n  'CCAFS',\n  'CCAFS',\n  'CCAFS',\n  'CCAFS',\n  'CCAFS',\n  'KSC',\n  'CCAFS',\n  'CCAFS',\n  'CCAFS',\n  'KSC',\n  'KSC',\n  'KSC',\n  'CCAFS',\n  'CCAFS',\n  'CCAFS',\n  'CCAFS',\n  'KSC',\n  'CCAFS',\n  'CCAFS',\n  'KSC',\n  'KSC',\n  'KSC',\n  'CCAFS',\n  'CCAFS',\n  'KSC',\n  'VAFB',\n  'CCAFS',\n  'KSC',\n  'CCSFS',\n  'KSC',\n  'CCSFS',\n  'KSC',\n  'CCSFS',\n  'CCSFS',\n  'CCSFS',\n  'KSC',\n  'CCSFS',\n  'KSC',\n  'CCSFS',\n  'CCSFS',\n  'KSC',\n  'CCSFS',\n  'KSC',\n  'CCSFS',\n  'KSC',\n  'CCSFS',\n  'KSC',\n  'CCSFS'],\n 'Payload': ['Dragon Spacecraft Qualification Unit',\n  'Dragon',\n  'Dragon',\n  'SpaceX CRS-1',\n  'SpaceX CRS-2',\n  'CASSIOPE',\n  'SES-8',\n  'Thaicom 6',\n  'SpaceX CRS-3',\n  'Orbcomm-OG2',\n  'AsiaSat 8',\n  'AsiaSat 6',\n  'SpaceX CRS-4',\n  'SpaceX CRS-5',\n  'DSCOVR',\n  'ABS-3A',\n  'SpaceX CRS-6',\n  'T\u00fcrkmen\u00c4lem 52\u00b0E / MonacoSAT',\n  'SpaceX CRS-7',\n  'Orbcomm-OG2',\n  'Jason-3',\n  'SES-9',\n  'SpaceX CRS-8',\n  'JCSAT-14',\n  'Thaicom 8',\n  'ABS-2A',\n  'SpaceX CRS-9',\n  'JCSAT-16',\n  'Iridium NEXT',\n  'SpaceX CRS-10',\n  'EchoStar 23',\n  'SES-10',\n  'NROL-76',\n  'Inmarsat-5 F4',\n  'SpaceX CRS-11',\n  'BulgariaSat-1',\n  'Iridium NEXT',\n  'Intelsat 35e',\n  'SpaceX CRS-12',\n  'Formosat-5',\n  'Boeing X-37B',\n  'Iridium NEXT',\n  'SES-11',\n  'Koreasat 5A',\n  'SpaceX CRS-13',\n  'Iridium NEXT',\n  'Zuma',\n  'GovSat-1',\n  'Paz',\n  'Hispasat 30W-6',\n  'Iridium NEXT',\n  'SpaceX CRS-14',\n  'Transiting Exoplanet Survey Satellite',\n  'Bangabandhu-1',\n  'Iridium NEXT',\n  'SES-12',\n  'SpaceX CRS-15',\n  'Telstar 19V',\n  'Iridium NEXT',\n  'Merah Putih',\n  'Telstar 18V',\n  'SAOCOM 1A',\n  \"Es'hail 2\",\n  'SSO-A',\n  'SpaceX CRS-16',\n  'GPS III',\n  'Iridium NEXT',\n  'Nusantara Satu',\n  'Crew Dragon Demo-1',\n  'SpaceX CRS-17',\n  'Starlink',\n  'RADARSAT Constellation',\n  'SpaceX CRS-18',\n  'AMOS-17',\n  'Starlink',\n  'SpaceX CRS-19',\n  'JCSat-18',\n  'Starlink',\n  'Crew Dragon in-flight abort test',\n  'Starlink',\n  'Starlink',\n  'SpaceX CRS-20',\n  'Starlink',\n  'Starlink',\n  'Crew Dragon Demo-2',\n  'Starlink',\n  'Starlink',\n  'GPS III',\n  'ANASIS-II',\n  'Starlink',\n  'Starlink',\n  'SAOCOM 1B',\n  'Starlink',\n  'Starlink',\n  'Starlink',\n  'Starlink',\n  'GPS III',\n  'Crew-1',\n  'Sentinel-6 Michael Freilich (Jason-CS A)',\n  'Starlink',\n  'SpaceX CRS-21',\n  'SXM-7',\n  'NROL-108',\n  'T\u00fcrksat 5A',\n  'Starlink',\n  'Transporter-1',\n  'Starlink',\n  'Starlink',\n  'Starlink',\n  'Starlink',\n  'Starlink',\n  'Starlink',\n  'Starlink',\n  'Crew-2',\n  'Starlink',\n  'Starlink',\n  'Starlink',\n  'Starlink',\n  'Starlink',\n  'SpaceX CRS-22',\n  'SXM-8'],\n 'Payload mass': [0,\n  0,\n  '525 kg',\n  '4,700 kg',\n  '4,877 kg',\n  '500 kg',\n  '3,170 kg',\n  '3,325 kg',\n  '2,296 kg',\n  '1,316 kg',\n  '4,535 kg',\n  '4,428 kg',\n  '2,216 kg',\n  '2,395 kg',\n  '570 kg',\n  '4,159 kg',\n  '1,898 kg',\n  '4,707 kg',\n  '1,952 kg',\n  '2,034 kg',\n  '553 kg',\n  '5,271 kg',\n  '3,136 kg',\n  '4,696 kg',\n  '3,100 kg',\n  '3,600 kg',\n  '2,257 kg',\n  '4,600 kg',\n  '9,600 kg',\n  '2,490 kg',\n  '5,600 kg',\n  '5,300 kg',\n  'C',\n  '6,070 kg',\n  '2,708 kg',\n  '3,669 kg',\n  '9,600 kg',\n  '6,761 kg',\n  '3,310 kg',\n  '475 kg',\n  '4,990 kg',\n  '9,600 kg',\n  '5,200 kg',\n  '3,500 kg',\n  '2,205 kg',\n  '9,600 kg',\n  'C',\n  '4,230 kg',\n  '2,150 kg',\n  '6,092 kg',\n  '9,600 kg',\n  '2,647 kg',\n  '362 kg',\n  '3,600 kg',\n  '6,460 kg',\n  '5,384 kg',\n  '2,697 kg',\n  '7,075 kg',\n  '9,600 kg',\n  '5,800 kg',\n  '7,060 kg',\n  '3,000 kg',\n  '5,300 kg',\n  '~4,000 kg',\n  '2,500 kg',\n  '4,400 kg',\n  '9,600 kg',\n  '4,850 kg',\n  '12,055 kg',\n  '2,495 kg',\n  '13,620 kg',\n  '4,200 kg',\n  '2,268 kg',\n  '6,500 kg',\n  '15,600 kg',\n  '2,617 kg',\n  '6,956 kg',\n  '15,600 kg',\n  '12,050 kg',\n  '15,600 kg',\n  '15,600 kg',\n  '1,977 kg',\n  '15,600 kg',\n  '15,600 kg',\n  '12,530 kg',\n  '15,600 kg',\n  '15,410 kg',\n  '4,311 kg',\n  '5,000\u20136,000 kg',\n  '14,932 kg',\n  '~15,440 kg',\n  '3,130 kg',\n  '15,600 kg',\n  '15,600 kg',\n  '15,600 kg',\n  '15,600 kg',\n  '4,311 kg',\n  '~12,500 kg',\n  '1,192 kg',\n  '15,600 kg',\n  '2,972 kg',\n  '7,000 kg',\n  'C',\n  '3,500 kg',\n  '15,600 kg',\n  '~5,000 kg',\n  '15,600 kg',\n  '15,600 kg',\n  '15,600 kg',\n  '15,600 kg',\n  '15,600 kg',\n  '15,600 kg',\n  '15,600 kg',\n  '~13,000 kg',\n  '15,600 kg',\n  '15,600 kg',\n  '15,600 kg',\n  '~14,000 kg',\n  '15,600 kg',\n  '3,328 kg',\n  '7,000 kg'],\n 'Orbit': ['LEO',\n  'LEO',\n  'LEO',\n  'LEO',\n  'LEO',\n  'Polar orbit',\n  'GTO',\n  'GTO',\n  'LEO',\n  'LEO',\n  'GTO',\n  'GTO',\n  'LEO',\n  'LEO',\n  'HEO',\n  'GTO',\n  'LEO',\n  'GTO',\n  'LEO',\n  'LEO',\n  'LEO',\n  'GTO',\n  'LEO',\n  'GTO',\n  'GTO',\n  'GTO',\n  'LEO',\n  'GTO',\n  'Polar',\n  'LEO',\n  'GTO',\n  'GTO',\n  'LEO',\n  'GTO',\n  'LEO',\n  'GTO',\n  'LEO',\n  'GTO',\n  'LEO',\n  'SSO',\n  'LEO',\n  'Polar',\n  'GTO',\n  'GTO',\n  'LEO',\n  'Polar',\n  'LEO',\n  'GTO',\n  'SSO',\n  'GTO',\n  'Polar',\n  'LEO',\n  'HEO',\n  'GTO',\n  'Polar',\n  'GTO',\n  'LEO',\n  'GTO',\n  'Polar',\n  'GTO',\n  'GTO',\n  'SSO',\n  'GTO',\n  'SSO',\n  'LEO',\n  'MEO',\n  'Polar',\n  'GTO',\n  'LEO',\n  'LEO',\n  'LEO',\n  'SSO',\n  'LEO',\n  'GTO',\n  'LEO',\n  'LEO',\n  'GTO',\n  'LEO',\n  'Sub-orbital',\n  'LEO',\n  'LEO',\n  'LEO',\n  'LEO',\n  'LEO',\n  'LEO',\n  'LEO',\n  'LEO',\n  'MEO',\n  'GTO',\n  'LEO',\n  'LEO',\n  'SSO',\n  'LEO',\n  'LEO',\n  'LEO',\n  'LEO',\n  'MEO',\n  'LEO',\n  'LEO',\n  'LEO',\n  'LEO',\n  'GTO',\n  'LEO',\n  'GTO',\n  'LEO',\n  'SSO',\n  'LEO',\n  'LEO',\n  'LEO',\n  'LEO',\n  'LEO',\n  'LEO',\n  'LEO',\n  'LEO',\n  'LEO',\n  'LEO',\n  'LEO',\n  'LEO',\n  'LEO',\n  'LEO',\n  'GTO'],\n 'Customer': ['SpaceX',\n  'NASA',\n  'NASA',\n  'NASA',\n  'NASA',\n  'MDA',\n  'SES',\n  'Thaicom',\n  'NASA',\n  'Orbcomm',\n  'AsiaSat',\n  'AsiaSat',\n  'NASA',\n  'NASA',\n  'USAF',\n  'ABS',\n  'NASA',\n  None,\n  'NASA',\n  'Orbcomm',\n  'NASA',\n  'SES',\n  'NASA',\n  'SKY Perfect JSAT Group',\n  'Thaicom',\n  'ABS',\n  'NASA',\n  'SKY Perfect JSAT Group',\n  'Iridium Communications',\n  'NASA',\n  'EchoStar',\n  'SES',\n  'NRO',\n  'Inmarsat',\n  'NASA',\n  'Bulsatcom',\n  'Iridium Communications',\n  'Intelsat',\n  'NASA',\n  'NSPO',\n  'USAF',\n  'Iridium Communications',\n  'SES S.A.',\n  'KT Corporation',\n  'NASA',\n  'Iridium Communications',\n  'Northrop Grumman',\n  'SES',\n  'Hisdesat',\n  'Hispasat',\n  'Iridium Communications',\n  'NASA',\n  'NASA',\n  'Thales-Alenia',\n  'Iridium Communications',\n  'SES',\n  'NASA',\n  'Telesat',\n  'Iridium Communications',\n  'Telkom Indonesia',\n  'Telesat',\n  'CONAE',\n  \"Es'hailSat\",\n  'Spaceflight Industries',\n  'NASA',\n  'USAF',\n  'Iridium Communications',\n  'PSN',\n  'NASA',\n  'NASA',\n  'SpaceX',\n  'Canadian Space Agency',\n  'NASA',\n  'Spacecom',\n  'SpaceX',\n  'NASA',\n  'Sky Perfect JSAT',\n  'SpaceX',\n  'NASA',\n  'SpaceX',\n  'SpaceX',\n  'NASA',\n  'SpaceX',\n  'SpaceX',\n  'NASA',\n  'SpaceX',\n  'SpaceX',\n  'U.S. Space Force',\n  'Republic of Korea Army',\n  'SpaceX',\n  'SpaceX',\n  'CONAE',\n  'SpaceX',\n  'SpaceX',\n  'SpaceX',\n  'SpaceX',\n  'USSF',\n  'NASA',\n  'NASA',\n  'SpaceX',\n  'NASA',\n  'Sirius XM',\n  'NRO',\n  'T\u00fcrksat',\n  'SpaceX',\n  'Various',\n  'SpaceX',\n  'SpaceX',\n  'SpaceX',\n  'SpaceX',\n  'SpaceX',\n  'SpaceX',\n  'SpaceX',\n  'NASA',\n  'SpaceX',\n  'SpaceX',\n  'SpaceX',\n  'SpaceX',\n  'SpaceX',\n  'NASA',\n  'Sirius XM'],\n 'Launch outcome': ['Success\\n',\n  'Success',\n  'Success',\n  'Success\\n',\n  'Success\\n',\n  'Success',\n  'Success',\n  'Success',\n  'Success\\n',\n  'Success',\n  'Success',\n  'Success',\n  'Success',\n  'Success',\n  'Success\\n',\n  'Success\\n',\n  'Success\\n',\n  'Success\\n',\n  'Failure',\n  'Success\\n',\n  'Success\\n',\n  'Success\\n',\n  'Success',\n  'Success\\n',\n  'Success\\n',\n  'Success\\n',\n  'Success\\n',\n  'Success\\n',\n  'Success\\n',\n  'Success\\n',\n  'Success\\n',\n  'Success',\n  'Success\\n',\n  'Success\\n',\n  'Success\\n',\n  'Success\\n',\n  'Success\\n',\n  'Success\\n',\n  'Success\\n',\n  'Success\\n',\n  'Success\\n',\n  'Success\\n',\n  'Success\\n',\n  'Success\\n',\n  'Success\\n',\n  'Success',\n  'Success',\n  'Success',\n  'Success',\n  'Success',\n  'Success',\n  'Success',\n  'Success',\n  'Success',\n  'Success',\n  'Success',\n  'Success',\n  'Success',\n  'Success',\n  'Success',\n  'Success',\n  'Success',\n  'Success',\n  'Success',\n  'Success\\n',\n  'Success',\n  'Success\\n',\n  'Success\\n',\n  'Success\\n',\n  'Success\\n',\n  'Success\\n',\n  'Success\\n',\n  'Success\\n',\n  'Success\\n',\n  'Success\\n',\n  'Success\\n',\n  'Success\\n',\n  'Success\\n',\n  'Success\\n',\n  'Success\\n',\n  'Success\\n',\n  'Success\\n',\n  'Success\\n',\n  'Success\\n',\n  'Success\\n',\n  'Success\\n',\n  'Success\\n',\n  'Success\\n',\n  'Success\\n',\n  'Success\\n',\n  'Success\\n',\n  'Success\\n',\n  'Success\\n',\n  'Success\\n',\n  'Success\\n',\n  'Success\\n',\n  'Success\\n',\n  'Success\\n',\n  'Success\\n',\n  'Success\\n',\n  'Success\\n',\n  'Success\\n',\n  'Success\\n',\n  'Success\\n',\n  'Success\\n',\n  'Success\\n',\n  'Success\\n',\n  'Success\\n',\n  'Success\\n',\n  'Success\\n',\n  'Success\\n',\n  'Success\\n',\n  'Success\\n',\n  'Success\\n',\n  'Success\\n',\n  'Success\\n',\n  'Success\\n',\n  'Success\\n',\n  'Success\\n',\n  'Success\\n',\n  'Success\\n'],\n 'Version Booster': ['F9 v1.0B0003.1',\n  'F9 v1.0B0004.1',\n  'F9 v1.0B0005.1',\n  'F9 v1.0B0006.1',\n  'F9 v1.0B0007.1',\n  'F9 v1.1B1003',\n  'F9 v1.1',\n  'F9 v1.1',\n  'F9 v1.1',\n  'F9 v1.1',\n  'F9 v1.1',\n  'F9 v1.1',\n  'F9 v1.1',\n  'F9 v1.1',\n  'F9 v1.1',\n  'F9 v1.1',\n  'F9 v1.1',\n  'F9 v1.1',\n  'F9 v1.1',\n  'F9 FT',\n  'F9 v1.1',\n  'F9 FT',\n  'F9 FT',\n  'F9 FT',\n  'F9 FT',\n  'F9 FT',\n  'F9 FT',\n  'F9 FT',\n  'F9 FT',\n  'F9 FT',\n  'F9 FT',\n  'F9 FT\u267a',\n  'F9 FT',\n  'F9 FT',\n  'F9 FT',\n  'F9 FTB1029.2',\n  'F9 FT',\n  'F9 FT',\n  'F9 B4',\n  'F9 FT',\n  'F9 B4',\n  'F9 B4',\n  'F9 FTB1031.2',\n  'F9 B4',\n  'F9 FTB1035.2',\n  'F9 FTB1036.2',\n  'F9 B4',\n  'F9 FTB1032.2',\n  'F9 FTB1038.2',\n  'F9 B4',\n  'F9 B4B1041.2',\n  'F9 B4B1039.2',\n  'F9 B4',\n  'F9 B5B1046.1',\n  'F9 B4B1043.2',\n  'F9 B4B1040.2',\n  'F9 B4B1045.2',\n  'F9 B5',\n  'F9 B5B1048',\n  'F9 B5B1046.2',\n  'F9 B5',\n  'F9 B5B1048.2',\n  'F9 B5B1047.2',\n  'F9 B5B1046.3',\n  'F9 B5',\n  'F9 B5',\n  'F9 B5B1049.2',\n  'F9 B5B1048.3',\n  'F9 B5[268]',\n  'F9 B5',\n  'F9 B5B1049.3',\n  'F9 B5B1051.2',\n  'F9 B5B1056.2',\n  'F9 B5B1047.3',\n  'F9 B5',\n  'F9 B5',\n  'F9 B5B1056.3',\n  'F9 B5',\n  'F9 B5',\n  'F9 B5',\n  'F9 B5',\n  'F9 B5',\n  'F9 B5',\n  'F9 B5',\n  'F9 B5',\n  'F9 B5',\n  'F9 B5',\n  'F9 B5',\n  'F9 B5B1058.2',\n  'F9 B5',\n  'F9 B5B1049.6',\n  'F9 B5',\n  'F9 B5B1060.2',\n  'F9 B5B1058.3',\n  'F9 B5B1051.6',\n  'F9 B5',\n  'F9 B5',\n  'F9 B5',\n  'F9 B5',\n  'F9 B5 \u267a',\n  'F9 B5 \u267a',\n  'F9 B5 \u267a',\n  'F9 B5 \u267a',\n  'F9 B5',\n  'F9 B5B1051.8',\n  'F9 B5B1058.5',\n  'F9 B5 \u267a',\n  'F9 B5 \u267a',\n  'F9 B5 \u267a',\n  'F9 B5 \u267a',\n  'F9 B5 \u267a',\n  'F9 B5B1060.6',\n  'F9 B5 \u267a',\n  'F9 B5B1061.2',\n  'F9 B5B1060.7',\n  'F9 B5B1049.9',\n  'F9 B5B1051.10',\n  'F9 B5B1058.8',\n  'F9 B5B1063.2',\n  'F9 B5B1067.1',\n  'F9 B5'],\n 'Booster landing': ['Failure',\n  'Failure',\n  'No attempt\\n',\n  'No attempt',\n  'No attempt\\n',\n  'Uncontrolled',\n  'No attempt',\n  'No attempt',\n  'Controlled',\n  'Controlled',\n  'No attempt',\n  'No attempt\\n',\n  'Uncontrolled',\n  'Failure ',\n  'Controlled',\n  'No attempt',\n  'Failure',\n  'No attempt',\n  'Precluded',\n  'Success',\n  'Failure',\n  'Failure',\n  'Success',\n  'Success',\n  'Success',\n  'Failure',\n  'Success',\n  'Success',\n  'Success',\n  'Success',\n  'No attempt',\n  'Success',\n  'Success',\n  'No attempt',\n  'Success',\n  'Success',\n  'Success',\n  'No attempt',\n  'Success',\n  'Success',\n  'Success',\n  'Success',\n  'Success',\n  'Success',\n  'Success',\n  'Controlled',\n  'Success',\n  'Controlled',\n  'No attempt',\n  'No attempt',\n  'No attempt',\n  'No attempt',\n  'Success',\n  'Success',\n  'No attempt',\n  'No attempt',\n  'No attempt',\n  'Success',\n  'Success',\n  'Success',\n  'Success',\n  'Success',\n  'Success',\n  'Success',\n  'Failure',\n  'No attempt',\n  'Success',\n  'Success',\n  'Success',\n  'Success',\n  'Success',\n  'Success',\n  'Success',\n  'No attempt',\n  'Success',\n  'Success',\n  'Success',\n  'Success',\n  'No attempt\\n',\n  'Success',\n  'Failure',\n  'Success',\n  'Failure',\n  'Success',\n  'Success',\n  'Success',\n  'Success',\n  'Success',\n  'Success',\n  'Success',\n  'Success',\n  'Success',\n  'Success',\n  'Success',\n  'Success',\n  'Success',\n  'Success',\n  'Success',\n  'Success',\n  'Success',\n  'Success',\n  'Success',\n  'Success',\n  'Success',\n  'Success',\n  'Success',\n  'Success',\n  'Failure',\n  'Success',\n  'Success',\n  'Success',\n  'Success',\n  'Success',\n  'Success',\n  'Success',\n  'Success',\n  'Success',\n  'Success',\n  'Success',\n  'Success',\n  'Success'],\n 'Date': ['4 June 2010',\n  '8 December 2010',\n  '22 May 2012',\n  '8 October 2012',\n  '1 March 2013',\n  '29 September 2013',\n  '3 December 2013',\n  '6 January 2014',\n  '18 April 2014',\n  '14 July 2014',\n  '5 August 2014',\n  '7 September 2014',\n  '21 September 2014',\n  '10 January 2015',\n  '11 February 2015',\n  '2 March 2015',\n  '14 April 2015',\n  '27 April 2015',\n  '28 June 2015',\n  '22 December 2015',\n  '17 January 2016',\n  '4 March 2016',\n  '8 April 2016',\n  '6 May 2016',\n  '27 May 2016',\n  '15 June 2016',\n  '18 July 2016',\n  '14 August 2016',\n  '14 January 2017',\n  '19 February 2017',\n  '16 March 2017',\n  '30 March 2017',\n  '1 May 2017',\n  '15 May 2017',\n  '3 June 2017',\n  '23 June 2017',\n  '25 June 2017',\n  '5 July 2017',\n  '14 August 2017',\n  '24 August 2017',\n  '7 September 2017',\n  '9 October 2017',\n  '11 October 2017',\n  '30 October 2017',\n  '15 December 2017',\n  '23 December 2017',\n  '8 January 2018',\n  '31 January 2018',\n  '22 February 2018',\n  '6 March 2018',\n  '30 March 2018',\n  '2 April 2018',\n  '18 April 2018',\n  '11 May 2018',\n  '22 May 2018',\n  '4 June 2018',\n  '29 June 2018',\n  '22 July 2018',\n  '25 July 2018',\n  '7 August 2018',\n  '10 September 2018',\n  '8 October 2018',\n  '15 November 2018',\n  '3 December 2018',\n  '5 December 2018',\n  '23 December 2018',\n  '11 January 2019',\n  '22 February 2019',\n  '2 March 2019',\n  '4 May 2019',\n  '24 May 2019',\n  '12 June 2019',\n  '25 July 2019',\n  '6 August 2019',\n  '11 November 2019',\n  '5 December 2019',\n  '17 December 2019',\n  '7 January 2020',\n  '19 January 2020',\n  '29 January 2020',\n  '17 February 2020',\n  '7 March 2020',\n  '18 March 2020',\n  '22 April 2020',\n  '30 May 2020',\n  '4 June 2020',\n  '13 June 2020',\n  '30 June 2020',\n  '20 July 2020',\n  '7 August 2020',\n  '18 August 2020',\n  '30 August 2020',\n  '3 September 2020',\n  '6 October 2020',\n  '18 October 2020',\n  '24 October 2020',\n  '5 November 2020',\n  '16 November 2020',\n  '21 November 2020',\n  '25 November 2020',\n  '6 December 2020',\n  '13 December 2020',\n  '19 December 2020',\n  '8 January 2021',\n  '20 January 2021',\n  '24 January 2021',\n  '4 February 2021',\n  '16 February 2021',\n  '4 March 2021',\n  '11 March 2021',\n  '14 March 2021',\n  '24 March 2021',\n  '7 April 2021',\n  '23 April 2021',\n  '29 April 2021',\n  '4 May 2021',\n  '9 May 2021',\n  '15 May 2021',\n  '26 May 2021',\n  '3 June 2021',\n  '6 June 2021'],\n 'Time': ['18:45',\n  '15:43',\n  '07:44',\n  '00:35',\n  '15:10',\n  '16:00',\n  '22:41',\n  '22:06',\n  '19:25',\n  '15:15',\n  '08:00',\n  '05:00',\n  '05:52',\n  '09:47',\n  '23:03',\n  '03:50',\n  '20:10',\n  '23:03',\n  '14:21',\n  '01:29',\n  '18:42',\n  '23:35',\n  '20:43',\n  '05:21',\n  '21:39',\n  '14:29',\n  '04:45',\n  '05:26',\n  '17:54',\n  '14:39',\n  '06:00',\n  '22:27',\n  '11:15',\n  '23:21',\n  '21:07',\n  '19:10',\n  '20:25',\n  '23:38',\n  '16:31',\n  '18:51',\n  '14:00',\n  '12:37',\n  '22:53:00',\n  '19:34',\n  '15:36',\n  '01:27',\n  '01:00',\n  '21:25',\n  '14:17',\n  '05:33',\n  '14:14',\n  '20:30',\n  '22:51',\n  '20:14',\n  '19:47',\n  '04:45',\n  '09:42',\n  '05:50',\n  '11:39',\n  '05:18',\n  '04:45',\n  '02:22',\n  '20:46',\n  '18:34:05',\n  '18:16',\n  '13:51',\n  '15:31',\n  '01:45',\n  '07:49',\n  '06:48',\n  '02:30',\n  '14:17',\n  '22:01',\n  '23:23',\n  '14:56',\n  '17:29',\n  '00:10',\n  '02:19:21',\n  '15:30',\n  '14:07',\n  '15:05',\n  '04:50',\n  '12:16',\n  '19:30',\n  '19:22',\n  '01:25',\n  '09:21',\n  '20:10:46',\n  '21:30',\n  '05:12',\n  '14:31',\n  '23:18',\n  '12:46:14',\n  '11:29:34',\n  '12:25:57',\n  '15:31:34',\n  '23:24:23',\n  '00:27',\n  '17:17:08',\n  '02:13',\n  '16:17:08',\n  '17:30:00',\n  '14:00:00',\n  '02:15',\n  '13:02',\n  '15:00',\n  '06:19',\n  '03:59:37',\n  '08:24',\n  '08:13:29',\n  '10:01',\n  '08:28',\n  '16:34',\n  '9:49',\n  '03:44',\n  '19:01',\n  '06:42',\n  '22:56',\n  '18:59',\n  '17:29',\n  '04:26']}"
                    },
                    "metadata": {}
                }
            ]
        },
        {
            "metadata": {
                "scrolled": true
            },
            "cell_type": "code",
            "source": "df=pd.DataFrame(launch_dict)",
            "execution_count": 16,
            "outputs": []
        },
        {
            "metadata": {},
            "cell_type": "markdown",
            "source": "We can now export it to a <b>CSV</b> for the next section, but to make the answers consistent and in case you have difficulties finishing this lab.\n\nFollowing labs will be using a provided dataset to make each lab independent.\n"
        },
        {
            "metadata": {},
            "cell_type": "code",
            "source": "df",
            "execution_count": 17,
            "outputs": [
                {
                    "output_type": "execute_result",
                    "execution_count": 17,
                    "data": {
                        "text/plain": "    Flight No. Launch site                               Payload Payload mass  \\\n0            1       CCAFS  Dragon Spacecraft Qualification Unit            0   \n1            2       CCAFS                                Dragon            0   \n2            3       CCAFS                                Dragon       525 kg   \n3            4       CCAFS                          SpaceX CRS-1     4,700 kg   \n4            5       CCAFS                          SpaceX CRS-2     4,877 kg   \n..         ...         ...                                   ...          ...   \n116        117       CCSFS                              Starlink    15,600 kg   \n117        118         KSC                              Starlink   ~14,000 kg   \n118        119       CCSFS                              Starlink    15,600 kg   \n119        120         KSC                         SpaceX CRS-22     3,328 kg   \n120        121       CCSFS                                 SXM-8     7,000 kg   \n\n    Orbit   Customer Launch outcome Version Booster Booster landing  \\\n0     LEO     SpaceX      Success\\n  F9 v1.0B0003.1         Failure   \n1     LEO       NASA        Success  F9 v1.0B0004.1         Failure   \n2     LEO       NASA        Success  F9 v1.0B0005.1    No attempt\\n   \n3     LEO       NASA      Success\\n  F9 v1.0B0006.1      No attempt   \n4     LEO       NASA      Success\\n  F9 v1.0B0007.1    No attempt\\n   \n..    ...        ...            ...             ...             ...   \n116   LEO     SpaceX      Success\\n   F9 B5B1051.10         Success   \n117   LEO     SpaceX      Success\\n    F9 B5B1058.8         Success   \n118   LEO     SpaceX      Success\\n    F9 B5B1063.2         Success   \n119   LEO       NASA      Success\\n    F9 B5B1067.1         Success   \n120   GTO  Sirius XM      Success\\n           F9 B5         Success   \n\n                Date   Time  \n0        4 June 2010  18:45  \n1    8 December 2010  15:43  \n2        22 May 2012  07:44  \n3     8 October 2012  00:35  \n4       1 March 2013  15:10  \n..               ...    ...  \n116       9 May 2021  06:42  \n117      15 May 2021  22:56  \n118      26 May 2021  18:59  \n119      3 June 2021  17:29  \n120      6 June 2021  04:26  \n\n[121 rows x 11 columns]",
                        "text/html": "<div>\n<style scoped>\n    .dataframe tbody tr th:only-of-type {\n        vertical-align: middle;\n    }\n\n    .dataframe tbody tr th {\n        vertical-align: top;\n    }\n\n    .dataframe thead th {\n        text-align: right;\n    }\n</style>\n<table border=\"1\" class=\"dataframe\">\n  <thead>\n    <tr style=\"text-align: right;\">\n      <th></th>\n      <th>Flight No.</th>\n      <th>Launch site</th>\n      <th>Payload</th>\n      <th>Payload mass</th>\n      <th>Orbit</th>\n      <th>Customer</th>\n      <th>Launch outcome</th>\n      <th>Version Booster</th>\n      <th>Booster landing</th>\n      <th>Date</th>\n      <th>Time</th>\n    </tr>\n  </thead>\n  <tbody>\n    <tr>\n      <th>0</th>\n      <td>1</td>\n      <td>CCAFS</td>\n      <td>Dragon Spacecraft Qualification Unit</td>\n      <td>0</td>\n      <td>LEO</td>\n      <td>SpaceX</td>\n      <td>Success\\n</td>\n      <td>F9 v1.0B0003.1</td>\n      <td>Failure</td>\n      <td>4 June 2010</td>\n      <td>18:45</td>\n    </tr>\n    <tr>\n      <th>1</th>\n      <td>2</td>\n      <td>CCAFS</td>\n      <td>Dragon</td>\n      <td>0</td>\n      <td>LEO</td>\n      <td>NASA</td>\n      <td>Success</td>\n      <td>F9 v1.0B0004.1</td>\n      <td>Failure</td>\n      <td>8 December 2010</td>\n      <td>15:43</td>\n    </tr>\n    <tr>\n      <th>2</th>\n      <td>3</td>\n      <td>CCAFS</td>\n      <td>Dragon</td>\n      <td>525 kg</td>\n      <td>LEO</td>\n      <td>NASA</td>\n      <td>Success</td>\n      <td>F9 v1.0B0005.1</td>\n      <td>No attempt\\n</td>\n      <td>22 May 2012</td>\n      <td>07:44</td>\n    </tr>\n    <tr>\n      <th>3</th>\n      <td>4</td>\n      <td>CCAFS</td>\n      <td>SpaceX CRS-1</td>\n      <td>4,700 kg</td>\n      <td>LEO</td>\n      <td>NASA</td>\n      <td>Success\\n</td>\n      <td>F9 v1.0B0006.1</td>\n      <td>No attempt</td>\n      <td>8 October 2012</td>\n      <td>00:35</td>\n    </tr>\n    <tr>\n      <th>4</th>\n      <td>5</td>\n      <td>CCAFS</td>\n      <td>SpaceX CRS-2</td>\n      <td>4,877 kg</td>\n      <td>LEO</td>\n      <td>NASA</td>\n      <td>Success\\n</td>\n      <td>F9 v1.0B0007.1</td>\n      <td>No attempt\\n</td>\n      <td>1 March 2013</td>\n      <td>15:10</td>\n    </tr>\n    <tr>\n      <th>...</th>\n      <td>...</td>\n      <td>...</td>\n      <td>...</td>\n      <td>...</td>\n      <td>...</td>\n      <td>...</td>\n      <td>...</td>\n      <td>...</td>\n      <td>...</td>\n      <td>...</td>\n      <td>...</td>\n    </tr>\n    <tr>\n      <th>116</th>\n      <td>117</td>\n      <td>CCSFS</td>\n      <td>Starlink</td>\n      <td>15,600 kg</td>\n      <td>LEO</td>\n      <td>SpaceX</td>\n      <td>Success\\n</td>\n      <td>F9 B5B1051.10</td>\n      <td>Success</td>\n      <td>9 May 2021</td>\n      <td>06:42</td>\n    </tr>\n    <tr>\n      <th>117</th>\n      <td>118</td>\n      <td>KSC</td>\n      <td>Starlink</td>\n      <td>~14,000 kg</td>\n      <td>LEO</td>\n      <td>SpaceX</td>\n      <td>Success\\n</td>\n      <td>F9 B5B1058.8</td>\n      <td>Success</td>\n      <td>15 May 2021</td>\n      <td>22:56</td>\n    </tr>\n    <tr>\n      <th>118</th>\n      <td>119</td>\n      <td>CCSFS</td>\n      <td>Starlink</td>\n      <td>15,600 kg</td>\n      <td>LEO</td>\n      <td>SpaceX</td>\n      <td>Success\\n</td>\n      <td>F9 B5B1063.2</td>\n      <td>Success</td>\n      <td>26 May 2021</td>\n      <td>18:59</td>\n    </tr>\n    <tr>\n      <th>119</th>\n      <td>120</td>\n      <td>KSC</td>\n      <td>SpaceX CRS-22</td>\n      <td>3,328 kg</td>\n      <td>LEO</td>\n      <td>NASA</td>\n      <td>Success\\n</td>\n      <td>F9 B5B1067.1</td>\n      <td>Success</td>\n      <td>3 June 2021</td>\n      <td>17:29</td>\n    </tr>\n    <tr>\n      <th>120</th>\n      <td>121</td>\n      <td>CCSFS</td>\n      <td>SXM-8</td>\n      <td>7,000 kg</td>\n      <td>GTO</td>\n      <td>Sirius XM</td>\n      <td>Success\\n</td>\n      <td>F9 B5</td>\n      <td>Success</td>\n      <td>6 June 2021</td>\n      <td>04:26</td>\n    </tr>\n  </tbody>\n</table>\n<p>121 rows \u00d7 11 columns</p>\n</div>"
                    },
                    "metadata": {}
                }
            ]
        },
        {
            "metadata": {},
            "cell_type": "markdown",
            "source": "<code>df.to_csv('spacex_web_scraped.csv', index=False)</code>\n"
        },
        {
            "metadata": {},
            "cell_type": "markdown",
            "source": "## Authors\n"
        },
        {
            "metadata": {},
            "cell_type": "markdown",
            "source": "<a href=\"https://www.linkedin.com/in/yan-luo-96288783/?utm_medium=Exinfluencer&utm_source=Exinfluencer&utm_content=000026UJ&utm_term=10006555&utm_id=NA-SkillsNetwork-Channel-SkillsNetworkCoursesIBMDS0321ENSkillsNetwork26802033-2021-01-01\">Yan Luo</a>\n"
        },
        {
            "metadata": {},
            "cell_type": "markdown",
            "source": "<a href=\"https://www.linkedin.com/in/nayefaboutayoun/?utm_medium=Exinfluencer&utm_source=Exinfluencer&utm_content=000026UJ&utm_term=10006555&utm_id=NA-SkillsNetwork-Channel-SkillsNetworkCoursesIBMDS0321ENSkillsNetwork26802033-2021-01-01\">Nayef Abou Tayoun</a>\n"
        },
        {
            "metadata": {},
            "cell_type": "markdown",
            "source": "## Change Log\n"
        },
        {
            "metadata": {},
            "cell_type": "markdown",
            "source": "| Date (YYYY-MM-DD) | Version | Changed By | Change Description          |\n| ----------------- | ------- | ---------- | --------------------------- |\n| 2021-06-09        | 1.0     | Yan Luo    | Tasks updates               |\n| 2020-11-10        | 1.0     | Nayef      | Created the initial version |\n"
        },
        {
            "metadata": {},
            "cell_type": "markdown",
            "source": "Copyright \u00a9 2021 IBM Corporation. All rights reserved.\n"
        }
    ],
    "metadata": {
        "kernelspec": {
            "name": "python3",
            "display_name": "Python 3.9",
            "language": "python"
        },
        "language_info": {
            "name": "python",
            "version": "3.9.7",
            "mimetype": "text/x-python",
            "codemirror_mode": {
                "name": "ipython",
                "version": 3
            },
            "pygments_lexer": "ipython3",
            "nbconvert_exporter": "python",
            "file_extension": ".py"
        }
    },
    "nbformat": 4,
    "nbformat_minor": 4
}