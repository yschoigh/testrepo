{
    "cells": [
        {
            "cell_type": "code",
            "execution_count": 7,
            "metadata": {},
            "outputs": [
                {
                    "name": "stdout",
                    "output_type": "stream",
                    "text": "Requirement already satisfied: manager in /opt/conda/envs/Python-3.9/lib/python3.9/site-packages (2.0.3)\nRequirement already satisfied: Foundations>=2.0.4 in /opt/conda/envs/Python-3.9/lib/python3.9/site-packages (from manager) (2.0.7)\nRequirement already satisfied: sphinx>=1.1.3 in /opt/conda/envs/Python-3.9/lib/python3.9/site-packages (from Foundations>=2.0.4->manager) (4.4.0)\nRequirement already satisfied: unittest2>=0.5.1 in /opt/conda/envs/Python-3.9/lib/python3.9/site-packages (from Foundations>=2.0.4->manager) (1.1.0)\nRequirement already satisfied: ordereddict>=1.1 in /opt/conda/envs/Python-3.9/lib/python3.9/site-packages (from Foundations>=2.0.4->manager) (1.1)\nRequirement already satisfied: alabaster<0.8,>=0.7 in /opt/conda/envs/Python-3.9/lib/python3.9/site-packages (from sphinx>=1.1.3->Foundations>=2.0.4->manager) (0.7.12)\nRequirement already satisfied: Jinja2>=2.3 in /opt/conda/envs/Python-3.9/lib/python3.9/site-packages (from sphinx>=1.1.3->Foundations>=2.0.4->manager) (3.0.2)\nRequirement already satisfied: Pygments>=2.0 in /opt/conda/envs/Python-3.9/lib/python3.9/site-packages (from sphinx>=1.1.3->Foundations>=2.0.4->manager) (2.10.0)\nRequirement already satisfied: packaging in /opt/conda/envs/Python-3.9/lib/python3.9/site-packages (from sphinx>=1.1.3->Foundations>=2.0.4->manager) (21.3)\nRequirement already satisfied: babel>=1.3 in /opt/conda/envs/Python-3.9/lib/python3.9/site-packages (from sphinx>=1.1.3->Foundations>=2.0.4->manager) (2.9.1)\nRequirement already satisfied: importlib-metadata>=4.4 in /opt/conda/envs/Python-3.9/lib/python3.9/site-packages (from sphinx>=1.1.3->Foundations>=2.0.4->manager) (4.8.2)\nRequirement already satisfied: docutils<0.18,>=0.14 in /opt/conda/envs/Python-3.9/lib/python3.9/site-packages (from sphinx>=1.1.3->Foundations>=2.0.4->manager) (0.17.1)\nRequirement already satisfied: requests>=2.5.0 in /opt/conda/envs/Python-3.9/lib/python3.9/site-packages (from sphinx>=1.1.3->Foundations>=2.0.4->manager) (2.26.0)\nRequirement already satisfied: sphinxcontrib-htmlhelp>=2.0.0 in /opt/conda/envs/Python-3.9/lib/python3.9/site-packages (from sphinx>=1.1.3->Foundations>=2.0.4->manager) (2.0.0)\nRequirement already satisfied: snowballstemmer>=1.1 in /opt/conda/envs/Python-3.9/lib/python3.9/site-packages (from sphinx>=1.1.3->Foundations>=2.0.4->manager) (2.2.0)\nRequirement already satisfied: imagesize in /opt/conda/envs/Python-3.9/lib/python3.9/site-packages (from sphinx>=1.1.3->Foundations>=2.0.4->manager) (1.3.0)\nRequirement already satisfied: sphinxcontrib-applehelp in /opt/conda/envs/Python-3.9/lib/python3.9/site-packages (from sphinx>=1.1.3->Foundations>=2.0.4->manager) (1.0.2)\nRequirement already satisfied: sphinxcontrib-jsmath in /opt/conda/envs/Python-3.9/lib/python3.9/site-packages (from sphinx>=1.1.3->Foundations>=2.0.4->manager) (1.0.1)\nRequirement already satisfied: sphinxcontrib-devhelp in /opt/conda/envs/Python-3.9/lib/python3.9/site-packages (from sphinx>=1.1.3->Foundations>=2.0.4->manager) (1.0.2)\nRequirement already satisfied: sphinxcontrib-serializinghtml>=1.1.5 in /opt/conda/envs/Python-3.9/lib/python3.9/site-packages (from sphinx>=1.1.3->Foundations>=2.0.4->manager) (1.1.5)\nRequirement already satisfied: sphinxcontrib-qthelp in /opt/conda/envs/Python-3.9/lib/python3.9/site-packages (from sphinx>=1.1.3->Foundations>=2.0.4->manager) (1.0.3)\nRequirement already satisfied: pytz>=2015.7 in /opt/conda/envs/Python-3.9/lib/python3.9/site-packages (from babel>=1.3->sphinx>=1.1.3->Foundations>=2.0.4->manager) (2021.3)\nRequirement already satisfied: zipp>=0.5 in /opt/conda/envs/Python-3.9/lib/python3.9/site-packages (from importlib-metadata>=4.4->sphinx>=1.1.3->Foundations>=2.0.4->manager) (3.6.0)\nRequirement already satisfied: MarkupSafe>=2.0 in /opt/conda/envs/Python-3.9/lib/python3.9/site-packages (from Jinja2>=2.3->sphinx>=1.1.3->Foundations>=2.0.4->manager) (2.0.1)\nRequirement already satisfied: charset-normalizer~=2.0.0 in /opt/conda/envs/Python-3.9/lib/python3.9/site-packages (from requests>=2.5.0->sphinx>=1.1.3->Foundations>=2.0.4->manager) (2.0.4)\nRequirement already satisfied: certifi>=2017.4.17 in /opt/conda/envs/Python-3.9/lib/python3.9/site-packages (from requests>=2.5.0->sphinx>=1.1.3->Foundations>=2.0.4->manager) (2021.10.8)\nRequirement already satisfied: idna<4,>=2.5 in /opt/conda/envs/Python-3.9/lib/python3.9/site-packages (from requests>=2.5.0->sphinx>=1.1.3->Foundations>=2.0.4->manager) (3.3)\nRequirement already satisfied: urllib3<1.27,>=1.21.1 in /opt/conda/envs/Python-3.9/lib/python3.9/site-packages (from requests>=2.5.0->sphinx>=1.1.3->Foundations>=2.0.4->manager) (1.26.7)\nRequirement already satisfied: traceback2 in /opt/conda/envs/Python-3.9/lib/python3.9/site-packages (from unittest2>=0.5.1->Foundations>=2.0.4->manager) (1.4.0)\nCollecting argparse\n  Using cached argparse-1.4.0-py2.py3-none-any.whl (23 kB)\nRequirement already satisfied: six>=1.4 in /opt/conda/envs/Python-3.9/lib/python3.9/site-packages (from unittest2>=0.5.1->Foundations>=2.0.4->manager) (1.15.0)\nRequirement already satisfied: pyparsing!=3.0.5,>=2.0.2 in /opt/conda/envs/Python-3.9/lib/python3.9/site-packages (from packaging->sphinx>=1.1.3->Foundations>=2.0.4->manager) (3.0.4)\nRequirement already satisfied: linecache2 in /opt/conda/envs/Python-3.9/lib/python3.9/site-packages (from traceback2->unittest2>=0.5.1->Foundations>=2.0.4->manager) (1.0.0)\nInstalling collected packages: argparse\nSuccessfully installed argparse-1.4.0\nNote: you may need to restart the kernel to use updated packages.\n"
                }
            ],
            "source": "pip install manager"
        },
        {
            "cell_type": "code",
            "execution_count": 9,
            "metadata": {},
            "outputs": [
                {
                    "name": "stdout",
                    "output_type": "stream",
                    "text": "Requirement already satisfied: pandas in /opt/conda/envs/Python-3.9/lib/python3.9/site-packages (1.3.4)\nRequirement already satisfied: python-dateutil>=2.7.3 in /opt/conda/envs/Python-3.9/lib/python3.9/site-packages (from pandas) (2.8.2)\nRequirement already satisfied: pytz>=2017.3 in /opt/conda/envs/Python-3.9/lib/python3.9/site-packages (from pandas) (2021.3)\nRequirement already satisfied: numpy>=1.17.3 in /opt/conda/envs/Python-3.9/lib/python3.9/site-packages (from pandas) (1.20.3)\nRequirement already satisfied: six>=1.5 in /opt/conda/envs/Python-3.9/lib/python3.9/site-packages (from python-dateutil>=2.7.3->pandas) (1.15.0)\nNote: you may need to restart the kernel to use updated packages.\n"
                }
            ],
            "source": "pip install pandas"
        },
        {
            "cell_type": "code",
            "execution_count": 14,
            "metadata": {},
            "outputs": [],
            "source": "import pandas as pd"
        },
        {
            "cell_type": "code",
            "execution_count": 15,
            "metadata": {},
            "outputs": [
                {
                    "name": "stdout",
                    "output_type": "stream",
                    "text": "Hello\n"
                }
            ],
            "source": "print('Hello')"
        },
        {
            "cell_type": "code",
            "execution_count": null,
            "metadata": {},
            "outputs": [],
            "source": ""
        }
    ],
    "metadata": {
        "kernelspec": {
            "display_name": "Python 3.9",
            "language": "python",
            "name": "python3"
        },
        "language_info": {
            "codemirror_mode": {
                "name": "ipython",
                "version": 3
            },
            "file_extension": ".py",
            "mimetype": "text/x-python",
            "name": "python",
            "nbconvert_exporter": "python",
            "pygments_lexer": "ipython3",
            "version": "3.9.7"
        }
    },
    "nbformat": 4,
    "nbformat_minor": 1
}